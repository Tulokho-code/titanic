{
 "cells": [
  {
   "cell_type": "code",
   "execution_count": 1,
   "id": "c0769382",
   "metadata": {},
   "outputs": [
    {
     "name": "stdout",
     "output_type": "stream",
     "text": [
      "Missing values trước xử lý:\n",
      "Age      177\n",
      "Fare       0\n",
      "SibSp      0\n",
      "Parch      0\n",
      "dtype: int64\n",
      "\n",
      "Missing values sau xử lý:\n",
      "Age      0\n",
      "Fare     0\n",
      "SibSp    0\n",
      "Parch    0\n",
      "dtype: int64\n",
      "\n",
      "Duplicates: 0\n"
     ]
    },
    {
     "name": "stderr",
     "output_type": "stream",
     "text": [
      "C:\\Users\\ThaiTu\\AppData\\Local\\Temp\\ipykernel_27160\\3938875391.py:13: FutureWarning: A value is trying to be set on a copy of a DataFrame or Series through chained assignment using an inplace method.\n",
      "The behavior will change in pandas 3.0. This inplace method will never work because the intermediate object on which we are setting values always behaves as a copy.\n",
      "\n",
      "For example, when doing 'df[col].method(value, inplace=True)', try using 'df.method({col: value}, inplace=True)' or df[col] = df[col].method(value) instead, to perform the operation inplace on the original object.\n",
      "\n",
      "\n",
      "  df['Age'].fillna(df['Age'].median(), inplace=True)\n",
      "C:\\Users\\ThaiTu\\AppData\\Local\\Temp\\ipykernel_27160\\3938875391.py:14: FutureWarning: A value is trying to be set on a copy of a DataFrame or Series through chained assignment using an inplace method.\n",
      "The behavior will change in pandas 3.0. This inplace method will never work because the intermediate object on which we are setting values always behaves as a copy.\n",
      "\n",
      "For example, when doing 'df[col].method(value, inplace=True)', try using 'df.method({col: value}, inplace=True)' or df[col] = df[col].method(value) instead, to perform the operation inplace on the original object.\n",
      "\n",
      "\n",
      "  df['Fare'].fillna(df['Fare'].mean(), inplace=True)  # Ít missing\n",
      "C:\\Users\\ThaiTu\\AppData\\Local\\Temp\\ipykernel_27160\\3938875391.py:15: FutureWarning: A value is trying to be set on a copy of a DataFrame or Series through chained assignment using an inplace method.\n",
      "The behavior will change in pandas 3.0. This inplace method will never work because the intermediate object on which we are setting values always behaves as a copy.\n",
      "\n",
      "For example, when doing 'df[col].method(value, inplace=True)', try using 'df.method({col: value}, inplace=True)' or df[col] = df[col].method(value) instead, to perform the operation inplace on the original object.\n",
      "\n",
      "\n",
      "  df['Embarked'].fillna(df['Embarked'].mode()[0], inplace=True)\n"
     ]
    }
   ],
   "source": [
    "import pandas as pd\n",
    "import numpy as np\n",
    "import seaborn as sns\n",
    "import matplotlib.pyplot as plt\n",
    "from scipy import stats\n",
    "\n",
    "# Tải dữ liệu\n",
    "df = pd.read_csv('data/train.csv')\n",
    "\n",
    "# Kiểm tra và xử lý missing values\n",
    "print(\"Missing values trước xử lý:\")\n",
    "print(df[['Age', 'Fare', 'SibSp', 'Parch']].isnull().sum())\n",
    "df['Age'].fillna(df['Age'].median(), inplace=True)\n",
    "df['Fare'].fillna(df['Fare'].mean(), inplace=True)  # Ít missing\n",
    "df['Embarked'].fillna(df['Embarked'].mode()[0], inplace=True)\n",
    "df.drop('Cabin', axis=1, inplace=True)\n",
    "print(\"\\nMissing values sau xử lý:\")\n",
    "print(df[['Age', 'Fare', 'SibSp', 'Parch']].isnull().sum())\n",
    "\n",
    "# Kiểm tra duplicates\n",
    "print(f\"\\nDuplicates: {df.duplicated().sum()}\")"
   ]
  }
 ],
 "metadata": {
  "kernelspec": {
   "display_name": "base",
   "language": "python",
   "name": "python3"
  },
  "language_info": {
   "codemirror_mode": {
    "name": "ipython",
    "version": 3
   },
   "file_extension": ".py",
   "mimetype": "text/x-python",
   "name": "python",
   "nbconvert_exporter": "python",
   "pygments_lexer": "ipython3",
   "version": "3.13.5"
  }
 },
 "nbformat": 4,
 "nbformat_minor": 5
}
